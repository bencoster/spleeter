{
  "cells": [
    {
      "cell_type": "markdown",
      "metadata": {
        "id": "view-in-github",
        "colab_type": "text"
      },
      "source": [
        "<a href=\"https://colab.research.google.com/github/bencoster/spleeter/blob/master/spleeter.ipynb\" target=\"_parent\"><img src=\"https://colab.research.google.com/assets/colab-badge.svg\" alt=\"Open In Colab\"/></a>"
      ]
    },
    {
      "cell_type": "markdown",
      "metadata": {
        "id": "K6mcSc0mmp3i"
      },
      "source": [
        "# Install spleeter"
      ]
    },
    {
      "cell_type": "code",
      "execution_count": null,
      "metadata": {
        "id": "f8Brdfh6mzEz"
      },
      "outputs": [],
      "source": [
        "!apt install ffmpeg"
      ]
    },
    {
      "cell_type": "code",
      "execution_count": null,
      "metadata": {
        "id": "V_6Ram1lmc1F"
      },
      "outputs": [],
      "source": [
        "pip install spleeter"
      ]
    },
    {
      "cell_type": "code",
      "execution_count": null,
      "metadata": {
        "id": "W0LktyMypXqE"
      },
      "outputs": [],
      "source": [
        "from IPython.display import Audio"
      ]
    },
    {
      "cell_type": "code",
      "execution_count": null,
      "metadata": {
        "id": "kOAqBcPhn6IU"
      },
      "outputs": [],
      "source": [
        "!spleeter separate --help"
      ]
    },
    {
      "cell_type": "markdown",
      "metadata": {
        "id": "afbcUSken16L"
      },
      "source": [
        "# Separate from command line"
      ]
    },
    {
      "cell_type": "code",
      "execution_count": null,
      "metadata": {
        "id": "O1kQaoJSoAD0"
      },
      "outputs": [],
      "source": [
        "# Step 1: Upload the audio file\n",
        "from google.colab import files\n",
        "\n",
        "uploaded = files.upload()\n",
        "\n",
        "for fn in uploaded.keys():\n",
        "  print(f'User uploaded file \"{fn}\" with length {len(uploaded[fn])} bytes')\n",
        "\n",
        "# Step 2: Capture the filename\n",
        "uploaded_filename = list(uploaded.keys())[0]\n"
      ]
    },
    {
      "cell_type": "code",
      "execution_count": null,
      "metadata": {
        "id": "ibG6uF55p4lH"
      },
      "outputs": [],
      "source": [
        "# Play Audio File\n",
        "from io import BytesIO\n",
        "import soundfile as sf\n",
        "audio_data = BytesIO(uploaded[uploaded_filename])\n",
        "audio_np, samplerate = sf.read(audio_data)\n",
        "Audio(audio_np, rate=samplerate)"
      ]
    },
    {
      "cell_type": "code",
      "execution_count": null,
      "metadata": {
        "id": "dGL-k5xxoKbu"
      },
      "outputs": [],
      "source": [
        "# Step 3: Run Spleeter\n",
        "import subprocess\n",
        "\n",
        "# Run Spleeter and capture output\n",
        "output = subprocess.run(['spleeter', 'separate', '-o', 'output/', uploaded_filename], capture_output=True, text=True)\n",
        "\n",
        "# Extract output folder name\n",
        "output_str = output.stdout\n",
        "folder_name_start = output_str.find('File output/') + len('File output/')\n",
        "folder_name_end = output_str.find('/', folder_name_start)\n",
        "folder_name = output_str[folder_name_start:folder_name_end]\n",
        "\n",
        "print(f\"Output folder name: {folder_name}\")"
      ]
    },
    {
      "cell_type": "code",
      "execution_count": null,
      "metadata": {
        "id": "IDuPWcAMoZP_"
      },
      "outputs": [],
      "source": [
        "!ls output/'{folder_name}'/"
      ]
    },
    {
      "cell_type": "code",
      "source": [
        "# This script is designed to run in a Google Colab environment.\n",
        "# It performs the following tasks:\n",
        "#\n",
        "# 1. Lists all `.wav` files in a specified output folder (`output/{folder_name}/`).\n",
        "# 2. Calculates and displays the human-readable file size of each `.wav` file.\n",
        "# 3. Initiates a download of each `.wav` file to the local machine.\n",
        "#\n",
        "# Note: The download progress (%) is managed by the browser's download manager,\n",
        "# as Google Colab's `files.download` method does not provide this feature.\n",
        "from google.colab import files\n",
        "import os\n",
        "\n",
        "# Function to convert bytes to a human-readable string\n",
        "def human_readable_size(size, decimal_places=2):\n",
        "    for unit in ['B', 'KB', 'MB', 'GB', 'TB']:\n",
        "        if size < 1024.0:\n",
        "            break\n",
        "        size /= 1024.0\n",
        "    return f\"{size:.{decimal_places}f} {unit}\"\n",
        "\n",
        "# List all files in the output folder\n",
        "output_files = os.listdir(f'output/{folder_name}/')\n",
        "\n",
        "# Download all .wav files\n",
        "for filename in output_files:\n",
        "    if filename.endswith('.wav'):\n",
        "        filepath = f'output/{folder_name}/{filename}'\n",
        "\n",
        "        # Get and print file size\n",
        "        file_size = os.path.getsize(filepath)\n",
        "        print(f\"Downloading {filename} with size {human_readable_size(file_size)}...\")\n",
        "\n",
        "        # Trigger download (Note: Colab's files.download doesn't support progress indication)\n",
        "        files.download(filepath)\n",
        "\n",
        "print(\"All downloads completed.\")"
      ],
      "metadata": {
        "id": "L2bqKKG65HFH"
      },
      "execution_count": null,
      "outputs": []
    },
    {
      "cell_type": "code",
      "execution_count": null,
      "metadata": {
        "id": "e7CHpyiloxrk"
      },
      "outputs": [],
      "source": [
        "Audio(f'output/{folder_name}/vocals.wav')"
      ]
    },
    {
      "cell_type": "code",
      "execution_count": null,
      "metadata": {
        "id": "ibXd-WCTpT0w"
      },
      "outputs": [],
      "source": [
        "Audio(f'output/{folder_name}/accompaniment.wav')"
      ]
    }
  ],
  "metadata": {
    "colab": {
      "name": "spleeter.ipynb",
      "provenance": [],
      "include_colab_link": true
    },
    "kernelspec": {
      "display_name": "Python 3",
      "name": "python3"
    }
  },
  "nbformat": 4,
  "nbformat_minor": 0
}